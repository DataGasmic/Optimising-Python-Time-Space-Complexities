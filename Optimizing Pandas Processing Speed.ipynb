{
 "cells": [
  {
   "cell_type": "markdown",
   "metadata": {},
   "source": [
    "# Why do we need to optimize Pandas ?\n",
    "\n",
    "#### __*Pandas*__ is one the greatest and most useful Python Libraries you will ever find, but when you deal with BIG DATA (> 1 million rows) , you can certainly find simple ways to optimise it and save a lot of time for yourself.\n",
    "#### In this Notebook we find how to loop over Pandas columns , compare two of them to find the result of the third and __WE TIME IT__ to find the most optimised one ! <br><font color=blue>Let's look at the following ways and analyse Time Complexitiesof each method - </font><br>\n",
    "- Using the Standard Python Looping\n",
    "- Using Pandas __*iterrows()*__\n",
    "- Using the Pandas __*apply()*__ method\n",
    "- Using the Pandas Vectorization Method"
   ]
  },
  {
   "cell_type": "markdown",
   "metadata": {},
   "source": [
    "# Importing Necessary Libraries "
   ]
  },
  {
   "cell_type": "code",
   "execution_count": 1,
   "metadata": {},
   "outputs": [],
   "source": [
    "import pandas as pd\n",
    "import numpy as np\n",
    "import random"
   ]
  },
  {
   "cell_type": "markdown",
   "metadata": {},
   "source": [
    "## Let's create a __Randomly Generated Dataset__ for us to Process and observe time complexities of each method"
   ]
  },
  {
   "cell_type": "code",
   "execution_count": 2,
   "metadata": {},
   "outputs": [],
   "source": [
    "df = pd.DataFrame()\n",
    "for i in range(2):\n",
    "    df[i]= random.sample(range(1,10000000),10000) # Simply taking 10000 rows to observe the difference\n",
    "df.columns = ['a' , 'b']"
   ]
  },
  {
   "cell_type": "code",
   "execution_count": 3,
   "metadata": {},
   "outputs": [
    {
     "data": {
      "text/html": [
       "<div>\n",
       "<style scoped>\n",
       "    .dataframe tbody tr th:only-of-type {\n",
       "        vertical-align: middle;\n",
       "    }\n",
       "\n",
       "    .dataframe tbody tr th {\n",
       "        vertical-align: top;\n",
       "    }\n",
       "\n",
       "    .dataframe thead th {\n",
       "        text-align: right;\n",
       "    }\n",
       "</style>\n",
       "<table border=\"1\" class=\"dataframe\">\n",
       "  <thead>\n",
       "    <tr style=\"text-align: right;\">\n",
       "      <th></th>\n",
       "      <th>a</th>\n",
       "      <th>b</th>\n",
       "    </tr>\n",
       "  </thead>\n",
       "  <tbody>\n",
       "    <tr>\n",
       "      <th>0</th>\n",
       "      <td>4831958</td>\n",
       "      <td>7148937</td>\n",
       "    </tr>\n",
       "    <tr>\n",
       "      <th>1</th>\n",
       "      <td>3700384</td>\n",
       "      <td>9058607</td>\n",
       "    </tr>\n",
       "    <tr>\n",
       "      <th>2</th>\n",
       "      <td>4260736</td>\n",
       "      <td>655587</td>\n",
       "    </tr>\n",
       "    <tr>\n",
       "      <th>3</th>\n",
       "      <td>7857849</td>\n",
       "      <td>8903877</td>\n",
       "    </tr>\n",
       "    <tr>\n",
       "      <th>4</th>\n",
       "      <td>9633463</td>\n",
       "      <td>6442000</td>\n",
       "    </tr>\n",
       "  </tbody>\n",
       "</table>\n",
       "</div>"
      ],
      "text/plain": [
       "         a        b\n",
       "0  4831958  7148937\n",
       "1  3700384  9058607\n",
       "2  4260736   655587\n",
       "3  7857849  8903877\n",
       "4  9633463  6442000"
      ]
     },
     "execution_count": 3,
     "metadata": {},
     "output_type": "execute_result"
    }
   ],
   "source": [
    "df.head()"
   ]
  },
  {
   "cell_type": "markdown",
   "metadata": {},
   "source": [
    "# __Let's Start__"
   ]
  },
  {
   "cell_type": "markdown",
   "metadata": {},
   "source": [
    "# Standard Python Loop"
   ]
  },
  {
   "cell_type": "code",
   "execution_count": 4,
   "metadata": {},
   "outputs": [
    {
     "name": "stdout",
     "output_type": "stream",
     "text": [
      "11.8 s ± 376 ms per loop (mean ± std. dev. of 7 runs, 1 loop each)\n"
     ]
    }
   ],
   "source": [
    "%%timeit # We use %%timeit magic function ot observe how much time each method takes and find the best one \n",
    "\n",
    "df['standard'] = np.nan\n",
    "for row in range(len(df)):\n",
    "    if df.loc[row,'b']<df.loc[row,'a']:\n",
    "        df.loc[row , 'standard'] = 'small'\n",
    "    else:\n",
    "        df.loc[row , 'standard'] = 'big'"
   ]
  },
  {
   "cell_type": "code",
   "execution_count": 5,
   "metadata": {},
   "outputs": [
    {
     "data": {
      "text/html": [
       "<div>\n",
       "<style scoped>\n",
       "    .dataframe tbody tr th:only-of-type {\n",
       "        vertical-align: middle;\n",
       "    }\n",
       "\n",
       "    .dataframe tbody tr th {\n",
       "        vertical-align: top;\n",
       "    }\n",
       "\n",
       "    .dataframe thead th {\n",
       "        text-align: right;\n",
       "    }\n",
       "</style>\n",
       "<table border=\"1\" class=\"dataframe\">\n",
       "  <thead>\n",
       "    <tr style=\"text-align: right;\">\n",
       "      <th></th>\n",
       "      <th>a</th>\n",
       "      <th>b</th>\n",
       "      <th>standard</th>\n",
       "    </tr>\n",
       "  </thead>\n",
       "  <tbody>\n",
       "    <tr>\n",
       "      <th>0</th>\n",
       "      <td>4831958</td>\n",
       "      <td>7148937</td>\n",
       "      <td>big</td>\n",
       "    </tr>\n",
       "    <tr>\n",
       "      <th>1</th>\n",
       "      <td>3700384</td>\n",
       "      <td>9058607</td>\n",
       "      <td>big</td>\n",
       "    </tr>\n",
       "    <tr>\n",
       "      <th>2</th>\n",
       "      <td>4260736</td>\n",
       "      <td>655587</td>\n",
       "      <td>small</td>\n",
       "    </tr>\n",
       "    <tr>\n",
       "      <th>3</th>\n",
       "      <td>7857849</td>\n",
       "      <td>8903877</td>\n",
       "      <td>big</td>\n",
       "    </tr>\n",
       "    <tr>\n",
       "      <th>4</th>\n",
       "      <td>9633463</td>\n",
       "      <td>6442000</td>\n",
       "      <td>small</td>\n",
       "    </tr>\n",
       "  </tbody>\n",
       "</table>\n",
       "</div>"
      ],
      "text/plain": [
       "         a        b standard\n",
       "0  4831958  7148937      big\n",
       "1  3700384  9058607      big\n",
       "2  4260736   655587    small\n",
       "3  7857849  8903877      big\n",
       "4  9633463  6442000    small"
      ]
     },
     "execution_count": 5,
     "metadata": {},
     "output_type": "execute_result"
    }
   ],
   "source": [
    "df.head()"
   ]
  },
  {
   "cell_type": "markdown",
   "metadata": {},
   "source": [
    "# Iterrows() in Python"
   ]
  },
  {
   "cell_type": "code",
   "execution_count": 6,
   "metadata": {},
   "outputs": [
    {
     "name": "stdout",
     "output_type": "stream",
     "text": [
      "1.58 s ± 30.6 ms per loop (mean ± std. dev. of 7 runs, 1 loop each)\n"
     ]
    }
   ],
   "source": [
    "%%timeit\n",
    "df['iterrows'] = np.nan\n",
    "list_1 = []\n",
    "for i,row in df.iterrows():\n",
    "    if row['b']<row['a']:\n",
    "        list_1.append('small')\n",
    "    else:\n",
    "        list_1.append('big')\n",
    "\n",
    "df['iterrows'] = list_1"
   ]
  },
  {
   "cell_type": "code",
   "execution_count": 7,
   "metadata": {},
   "outputs": [
    {
     "data": {
      "text/html": [
       "<div>\n",
       "<style scoped>\n",
       "    .dataframe tbody tr th:only-of-type {\n",
       "        vertical-align: middle;\n",
       "    }\n",
       "\n",
       "    .dataframe tbody tr th {\n",
       "        vertical-align: top;\n",
       "    }\n",
       "\n",
       "    .dataframe thead th {\n",
       "        text-align: right;\n",
       "    }\n",
       "</style>\n",
       "<table border=\"1\" class=\"dataframe\">\n",
       "  <thead>\n",
       "    <tr style=\"text-align: right;\">\n",
       "      <th></th>\n",
       "      <th>a</th>\n",
       "      <th>b</th>\n",
       "      <th>standard</th>\n",
       "      <th>iterrows</th>\n",
       "    </tr>\n",
       "  </thead>\n",
       "  <tbody>\n",
       "    <tr>\n",
       "      <th>0</th>\n",
       "      <td>4831958</td>\n",
       "      <td>7148937</td>\n",
       "      <td>big</td>\n",
       "      <td>big</td>\n",
       "    </tr>\n",
       "    <tr>\n",
       "      <th>1</th>\n",
       "      <td>3700384</td>\n",
       "      <td>9058607</td>\n",
       "      <td>big</td>\n",
       "      <td>big</td>\n",
       "    </tr>\n",
       "    <tr>\n",
       "      <th>2</th>\n",
       "      <td>4260736</td>\n",
       "      <td>655587</td>\n",
       "      <td>small</td>\n",
       "      <td>small</td>\n",
       "    </tr>\n",
       "    <tr>\n",
       "      <th>3</th>\n",
       "      <td>7857849</td>\n",
       "      <td>8903877</td>\n",
       "      <td>big</td>\n",
       "      <td>big</td>\n",
       "    </tr>\n",
       "    <tr>\n",
       "      <th>4</th>\n",
       "      <td>9633463</td>\n",
       "      <td>6442000</td>\n",
       "      <td>small</td>\n",
       "      <td>small</td>\n",
       "    </tr>\n",
       "  </tbody>\n",
       "</table>\n",
       "</div>"
      ],
      "text/plain": [
       "         a        b standard iterrows\n",
       "0  4831958  7148937      big      big\n",
       "1  3700384  9058607      big      big\n",
       "2  4260736   655587    small    small\n",
       "3  7857849  8903877      big      big\n",
       "4  9633463  6442000    small    small"
      ]
     },
     "execution_count": 7,
     "metadata": {},
     "output_type": "execute_result"
    }
   ],
   "source": [
    "df.head()"
   ]
  },
  {
   "cell_type": "markdown",
   "metadata": {},
   "source": [
    "# Apply Method in Python"
   ]
  },
  {
   "cell_type": "code",
   "execution_count": 8,
   "metadata": {},
   "outputs": [
    {
     "name": "stdout",
     "output_type": "stream",
     "text": [
      "275 ms ± 3.65 ms per loop (mean ± std. dev. of 7 runs, 1 loop each)\n"
     ]
    }
   ],
   "source": [
    "%%timeit\n",
    "\n",
    "df['apply'] = np.nan\n",
    "df['apply'] = df.apply(lambda row :'small' if row['b']<row['a'] else 'big',axis=1)"
   ]
  },
  {
   "cell_type": "code",
   "execution_count": 9,
   "metadata": {},
   "outputs": [
    {
     "data": {
      "text/html": [
       "<div>\n",
       "<style scoped>\n",
       "    .dataframe tbody tr th:only-of-type {\n",
       "        vertical-align: middle;\n",
       "    }\n",
       "\n",
       "    .dataframe tbody tr th {\n",
       "        vertical-align: top;\n",
       "    }\n",
       "\n",
       "    .dataframe thead th {\n",
       "        text-align: right;\n",
       "    }\n",
       "</style>\n",
       "<table border=\"1\" class=\"dataframe\">\n",
       "  <thead>\n",
       "    <tr style=\"text-align: right;\">\n",
       "      <th></th>\n",
       "      <th>a</th>\n",
       "      <th>b</th>\n",
       "      <th>standard</th>\n",
       "      <th>iterrows</th>\n",
       "      <th>apply</th>\n",
       "    </tr>\n",
       "  </thead>\n",
       "  <tbody>\n",
       "    <tr>\n",
       "      <th>0</th>\n",
       "      <td>4831958</td>\n",
       "      <td>7148937</td>\n",
       "      <td>big</td>\n",
       "      <td>big</td>\n",
       "      <td>big</td>\n",
       "    </tr>\n",
       "    <tr>\n",
       "      <th>1</th>\n",
       "      <td>3700384</td>\n",
       "      <td>9058607</td>\n",
       "      <td>big</td>\n",
       "      <td>big</td>\n",
       "      <td>big</td>\n",
       "    </tr>\n",
       "    <tr>\n",
       "      <th>2</th>\n",
       "      <td>4260736</td>\n",
       "      <td>655587</td>\n",
       "      <td>small</td>\n",
       "      <td>small</td>\n",
       "      <td>small</td>\n",
       "    </tr>\n",
       "    <tr>\n",
       "      <th>3</th>\n",
       "      <td>7857849</td>\n",
       "      <td>8903877</td>\n",
       "      <td>big</td>\n",
       "      <td>big</td>\n",
       "      <td>big</td>\n",
       "    </tr>\n",
       "    <tr>\n",
       "      <th>4</th>\n",
       "      <td>9633463</td>\n",
       "      <td>6442000</td>\n",
       "      <td>small</td>\n",
       "      <td>small</td>\n",
       "      <td>small</td>\n",
       "    </tr>\n",
       "  </tbody>\n",
       "</table>\n",
       "</div>"
      ],
      "text/plain": [
       "         a        b standard iterrows  apply\n",
       "0  4831958  7148937      big      big    big\n",
       "1  3700384  9058607      big      big    big\n",
       "2  4260736   655587    small    small  small\n",
       "3  7857849  8903877      big      big    big\n",
       "4  9633463  6442000    small    small  small"
      ]
     },
     "execution_count": 9,
     "metadata": {},
     "output_type": "execute_result"
    }
   ],
   "source": [
    "df.head()"
   ]
  },
  {
   "cell_type": "markdown",
   "metadata": {},
   "source": [
    "# Pandas Vectorization"
   ]
  },
  {
   "cell_type": "code",
   "execution_count": 10,
   "metadata": {},
   "outputs": [
    {
     "name": "stdout",
     "output_type": "stream",
     "text": [
      "4.21 ms ± 470 µs per loop (mean ± std. dev. of 7 runs, 100 loops each)\n"
     ]
    }
   ],
   "source": [
    "%%timeit\n",
    "\n",
    "df['p_vec'] = 'big'\n",
    "df.loc[df['b']<df['a'],'p_vec'] = 'small'"
   ]
  },
  {
   "cell_type": "code",
   "execution_count": 11,
   "metadata": {},
   "outputs": [
    {
     "data": {
      "text/html": [
       "<div>\n",
       "<style scoped>\n",
       "    .dataframe tbody tr th:only-of-type {\n",
       "        vertical-align: middle;\n",
       "    }\n",
       "\n",
       "    .dataframe tbody tr th {\n",
       "        vertical-align: top;\n",
       "    }\n",
       "\n",
       "    .dataframe thead th {\n",
       "        text-align: right;\n",
       "    }\n",
       "</style>\n",
       "<table border=\"1\" class=\"dataframe\">\n",
       "  <thead>\n",
       "    <tr style=\"text-align: right;\">\n",
       "      <th></th>\n",
       "      <th>a</th>\n",
       "      <th>b</th>\n",
       "      <th>standard</th>\n",
       "      <th>iterrows</th>\n",
       "      <th>apply</th>\n",
       "      <th>p_vec</th>\n",
       "    </tr>\n",
       "  </thead>\n",
       "  <tbody>\n",
       "    <tr>\n",
       "      <th>0</th>\n",
       "      <td>4831958</td>\n",
       "      <td>7148937</td>\n",
       "      <td>big</td>\n",
       "      <td>big</td>\n",
       "      <td>big</td>\n",
       "      <td>big</td>\n",
       "    </tr>\n",
       "    <tr>\n",
       "      <th>1</th>\n",
       "      <td>3700384</td>\n",
       "      <td>9058607</td>\n",
       "      <td>big</td>\n",
       "      <td>big</td>\n",
       "      <td>big</td>\n",
       "      <td>big</td>\n",
       "    </tr>\n",
       "    <tr>\n",
       "      <th>2</th>\n",
       "      <td>4260736</td>\n",
       "      <td>655587</td>\n",
       "      <td>small</td>\n",
       "      <td>small</td>\n",
       "      <td>small</td>\n",
       "      <td>small</td>\n",
       "    </tr>\n",
       "    <tr>\n",
       "      <th>3</th>\n",
       "      <td>7857849</td>\n",
       "      <td>8903877</td>\n",
       "      <td>big</td>\n",
       "      <td>big</td>\n",
       "      <td>big</td>\n",
       "      <td>big</td>\n",
       "    </tr>\n",
       "    <tr>\n",
       "      <th>4</th>\n",
       "      <td>9633463</td>\n",
       "      <td>6442000</td>\n",
       "      <td>small</td>\n",
       "      <td>small</td>\n",
       "      <td>small</td>\n",
       "      <td>small</td>\n",
       "    </tr>\n",
       "  </tbody>\n",
       "</table>\n",
       "</div>"
      ],
      "text/plain": [
       "         a        b standard iterrows  apply  p_vec\n",
       "0  4831958  7148937      big      big    big    big\n",
       "1  3700384  9058607      big      big    big    big\n",
       "2  4260736   655587    small    small  small  small\n",
       "3  7857849  8903877      big      big    big    big\n",
       "4  9633463  6442000    small    small  small  small"
      ]
     },
     "execution_count": 11,
     "metadata": {},
     "output_type": "execute_result"
    }
   ],
   "source": [
    "df.head()"
   ]
  },
  {
   "cell_type": "markdown",
   "metadata": {},
   "source": [
    "# __Observations__\n",
    "\n",
    "- Standard Python Loop Time  : __11.8 seconds__\n",
    "- Iterrows() Fcuntion Time   : __1.58 seconds__\n",
    "- Python *Apply* Method Time : __275  milliseconds__\n",
    "- Pandas Vectorization Time  : __4.21 milliseconds__\n",
    "\n",
    "## We observe that using Pandas Vectorization, with __*loc*__ can substantially reduce the processing time of a Pandas Dataframe. \n",
    "\n",
    "__We can reduce the time by almost 2800 times !__ "
   ]
  },
  {
   "cell_type": "code",
   "execution_count": null,
   "metadata": {},
   "outputs": [],
   "source": []
  }
 ],
 "metadata": {
  "kernelspec": {
   "display_name": "Python 3",
   "language": "python",
   "name": "python3"
  },
  "language_info": {
   "codemirror_mode": {
    "name": "ipython",
    "version": 3
   },
   "file_extension": ".py",
   "mimetype": "text/x-python",
   "name": "python",
   "nbconvert_exporter": "python",
   "pygments_lexer": "ipython3",
   "version": "3.6.8"
  }
 },
 "nbformat": 4,
 "nbformat_minor": 2
}
